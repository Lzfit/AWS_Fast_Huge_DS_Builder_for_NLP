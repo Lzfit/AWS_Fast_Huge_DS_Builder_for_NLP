{
 "cells": [
  {
   "cell_type": "code",
   "execution_count": 1,
   "metadata": {},
   "outputs": [],
   "source": [
    "import pandas as pd"
   ]
  },
  {
   "cell_type": "code",
   "execution_count": 2,
   "metadata": {},
   "outputs": [],
   "source": [
    "df = pd.read_csv('URLs.csv', header=None, encoding='latin-1')"
   ]
  },
  {
   "cell_type": "code",
   "execution_count": 3,
   "metadata": {},
   "outputs": [
    {
     "data": {
      "text/plain": [
       "(738600, 3)"
      ]
     },
     "execution_count": 3,
     "metadata": {},
     "output_type": "execute_result"
    }
   ],
   "source": [
    "df.shape"
   ]
  },
  {
   "cell_type": "code",
   "execution_count": 4,
   "metadata": {},
   "outputs": [],
   "source": [
    "df.columns= ['Country', 'State', 'URL']"
   ]
  },
  {
   "cell_type": "code",
   "execution_count": 5,
   "metadata": {},
   "outputs": [],
   "source": [
    "df.Country.replace({'cl': 'Chile', 'gt': 'Guatemala', 'mx': \"Mexico\", 'pe': 'Peru', 'sv': \"ElSalvador\"}, inplace=True)"
   ]
  },
  {
   "cell_type": "code",
   "execution_count": 6,
   "metadata": {},
   "outputs": [],
   "source": [
    "df.State.replace({'\"\"': 'vacio'}, inplace=True)"
   ]
  },
  {
   "cell_type": "code",
   "execution_count": 7,
   "metadata": {},
   "outputs": [],
   "source": [
    "states = df.State.unique()"
   ]
  },
  {
   "cell_type": "code",
   "execution_count": 8,
   "metadata": {},
   "outputs": [
    {
     "data": {
      "text/plain": [
       "array(['\"Región de Los Lagos\"',\n",
       "       '\"Región Aisén del Gral.Carlos Ibáñez del Campo\"',\n",
       "       '\"Región de Magallanes y de la Antártica Chilena\"',\n",
       "       '\"Región Metropolitana de Santiago\"', '\"Región de Los Ríos\"',\n",
       "       '\"Región de Arica y Parinacota\"', '\"Región de Ñuble\"',\n",
       "       '\"Región de Tarapacá\"', '\"Región de Antofagasta\"',\n",
       "       '\"Región de Atacama\"', '\"Región de Coquimbo\"',\n",
       "       '\"Región de Valparaíso\"',\n",
       "       '\"Región del Libertador Gral. Bernardo O\\x92Higgins\"',\n",
       "       '\"Región del Maule\"', '\"Región del Biobío\"',\n",
       "       '\"Región de La Araucanía\"', 'Guatemala', 'Quetzaltenango', 'Petén',\n",
       "       'Escuintla', 'Huehuetenango', 'Chimaltenango', 'Totonicapán',\n",
       "       '\"Alta Verapaz\"', 'Suchitepéquez', 'Izabal', 'Jutiapa', 'Jalapa',\n",
       "       'Sololá', 'Chiquimula', '\"Baja Verapaz\"', 'Sacatepéquez',\n",
       "       'Retalhuleu', 'Zacapa', '\"San Marcos\"', 'Quiché', '\"Santa Rosa\"',\n",
       "       '\"El Progreso\"', 'Aguascalientes', '\"Baja California\"',\n",
       "       '\"Baja California Sur\"', 'Campeche', '\"Coahuila de Zaragoza\"',\n",
       "       'Colima', 'Chiapas', 'Chihuahua', '\"Distrito Federal\"', 'Durango',\n",
       "       'Guanajuato', 'Guerrero', 'Hidalgo', 'Jalisco',\n",
       "       '\"Estado de México\"', '\"Michoacán de Ocampo\"', 'Morelos',\n",
       "       'Nayarit', '\"Nuevo León\"', 'Oaxaca', 'Puebla', 'Querétaro',\n",
       "       '\"Quintana Roo\"', '\"San Luis Potosí\"', 'Sinaloa', 'Sonora',\n",
       "       'Tabasco', 'Tamaulipas', 'Tlaxcala',\n",
       "       '\"Veracruz de Ignacio de la Llave\"', 'Yucatán', 'Zacatecas',\n",
       "       'Amazonas', 'Áncash', 'Apurímac', 'Arequipa', 'Ayacucho',\n",
       "       'Cajamarca', 'Callao', 'Cusco', 'Huancavelica', 'Huánuco', 'Ica',\n",
       "       'Junín', '\"La Libertad\"', 'Lambayeque', 'Lima', 'Loreto',\n",
       "       '\"Madre de Dios\"', 'Moquegua', 'Pasco', 'Piura', 'Puno',\n",
       "       '\"San Martín\"', 'Tacna', 'Tumbes', 'Ucayali', 'Ahuachapán',\n",
       "       'Cabañas', 'Chalatenango', 'Cuscatlán', '\"La Paz\"', '\"La Unión\"',\n",
       "       'Morazán', '\"San Miguel\"', '\"San Salvador\"', '\"San Vicente\"',\n",
       "       '\"Santa Ana\"', 'Sonsonate', 'Usulután', 'vacio'], dtype=object)"
      ]
     },
     "execution_count": 8,
     "metadata": {},
     "output_type": "execute_result"
    }
   ],
   "source": [
    "states"
   ]
  },
  {
   "cell_type": "code",
   "execution_count": 9,
   "metadata": {},
   "outputs": [],
   "source": [
    "St = pd.Series(data=states)"
   ]
  },
  {
   "cell_type": "code",
   "execution_count": 10,
   "metadata": {},
   "outputs": [],
   "source": [
    "St2 = pd.DataFrame(data=states, columns=['states'], index=None)"
   ]
  },
  {
   "cell_type": "code",
   "execution_count": 11,
   "metadata": {},
   "outputs": [],
   "source": [
    "St2['states2'] = St2.states"
   ]
  },
  {
   "cell_type": "code",
   "execution_count": 12,
   "metadata": {},
   "outputs": [],
   "source": [
    "for i in range(len(St2.states)):\n",
    "    St2.states2[i] = St2.states2[i].replace(' ', '')\n",
    "    St2.states2[i] = St2.states2[i].replace('\"', '')\n",
    "    St2.states2[i] = St2.states2[i].replace('.', '')\n",
    "    St2.states2[i] = St2.states2[i].replace('ó', 'o')\n",
    "    St2.states2[i] = St2.states2[i].replace('í', 'i')\n",
    "    St2.states2[i] = St2.states2[i].replace('á', 'a')\n",
    "    St2.states2[i] = St2.states2[i].replace('é', 'e')\n",
    "    St2.states2[i] = St2.states2[i].replace('ñ', 'n')\n",
    "    St2.states2[i] = St2.states2[i].replace('Á', 'A')\n",
    "    St2.states2[i] = St2.states2[i].replace('Ñ', 'N')\n",
    "    St2.states2[i] = St2.states2[i].replace('\\x92', '')    "
   ]
  },
  {
   "cell_type": "code",
   "execution_count": 13,
   "metadata": {},
   "outputs": [],
   "source": [
    "dic = {row['states']: row['states2'] for index, row in St2.iterrows()}"
   ]
  },
  {
   "cell_type": "code",
   "execution_count": 14,
   "metadata": {},
   "outputs": [],
   "source": [
    "df.State = df.State.map(dic)"
   ]
  },
  {
   "cell_type": "code",
   "execution_count": 15,
   "metadata": {},
   "outputs": [],
   "source": [
    "df2 = df.sample(n=20000)"
   ]
  },
  {
   "cell_type": "code",
   "execution_count": 228,
   "metadata": {},
   "outputs": [],
   "source": [
    "df2.to_csv('URL_sample_20k.csv', header=True, encoding='latin-1', index=False)"
   ]
  },
  {
   "cell_type": "code",
   "execution_count": 18,
   "metadata": {},
   "outputs": [],
   "source": [
    "size = df.shape[0]\n",
    "chunksize = 150000\n",
    "chunk_pos = 0\n",
    "\n",
    "for i in range(int(size/chunksize)+1):\n",
    "    \n",
    "    if i == 4:\n",
    "        df3 = df.iloc[chunk_pos:, :]\n",
    "        name = 'URLs_part' + str(i) + '.csv'\n",
    "        df3.to_csv(name, header=True, encoding='latin-1', index=False)\n",
    "    else:\n",
    "        df3 = df.iloc[chunk_pos:(chunk_pos+chunksize),:]\n",
    "        name = 'URLs_part' + str(i) + '.csv'\n",
    "        df3.to_csv(name, header=True, encoding='latin-1', index=False)\n",
    "        chunk_pos += chunksize"
   ]
  },
  {
   "cell_type": "code",
   "execution_count": null,
   "metadata": {},
   "outputs": [],
   "source": []
  }
 ],
 "metadata": {
  "kernelspec": {
   "display_name": "Python 3",
   "language": "python",
   "name": "python3"
  },
  "language_info": {
   "codemirror_mode": {
    "name": "ipython",
    "version": 3
   },
   "file_extension": ".py",
   "mimetype": "text/x-python",
   "name": "python",
   "nbconvert_exporter": "python",
   "pygments_lexer": "ipython3",
   "version": "3.8.3"
  }
 },
 "nbformat": 4,
 "nbformat_minor": 4
}
